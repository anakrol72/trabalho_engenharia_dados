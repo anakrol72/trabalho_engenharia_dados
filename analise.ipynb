{
 "cells": [
  {
   "cell_type": "code",
   "execution_count": 1,
   "metadata": {},
   "outputs": [],
   "source": [
    "import pandas as pd\n",
    "import matplotlib.pyplot as plt\n",
    "import seaborn as sb\n",
    "from sklearn.ensemble import RandomForestClassifier\n",
    "from azure.storage.blob import BlobServiceClient, generate_blob_sas, BlobSasPermissions\n",
    "import json"
   ]
  },
  {
   "cell_type": "code",
   "execution_count": 2,
   "metadata": {},
   "outputs": [],
   "source": [
    "#enter credentials\n",
    "account_name = \"filmesteste\"\n",
    "account_access_key = \"S5wta6QAtuV6yYubHeMSen4mO9CHuP3A0kIYyZmEpEWj6uUugxXzYdrpMuVGxn6Td9eQU+gmHRfw+AStpgojeQ==\"\n",
    "container_name = \"database\"\n",
    "#create a client to interact with blob storage\n",
    "connect_str = 'DefaultEndpointsProtocol=https;AccountName=' + account_name + ';AccountKey=' + account_access_key + ';EndpointSuffix=core.windows.net'\n",
    "blob_service_client = BlobServiceClient.from_connection_string(connect_str)\n",
    "#use the client to connect to the container\n",
    "container_client = blob_service_client.get_container_client(container_name)"
   ]
  },
  {
   "cell_type": "code",
   "execution_count": 3,
   "metadata": {},
   "outputs": [],
   "source": [
    "def get_data(file_name):\n",
    "    blob_client = container_client.get_blob_client(file_name)\n",
    "    stream_downloader = blob_client.download_blob()\n",
    "    stream = json.loads(stream_downloader.readall())\n",
    "    #data = stream_downloader.readall()\n",
    "    return pd.DataFrame(stream)"
   ]
  },
  {
   "cell_type": "code",
   "execution_count": 4,
   "metadata": {},
   "outputs": [
    {
     "name": "stdout",
     "output_type": "stream",
     "text": [
      "['df_movies_consolidated.json']\n"
     ]
    }
   ],
   "source": [
    "\n",
    "blob_list = []\n",
    "for blob_i in container_client.list_blobs():\n",
    "    blob_list.append(blob_i.name)\n",
    "print(blob_list)"
   ]
  },
  {
   "cell_type": "code",
   "execution_count": 5,
   "metadata": {},
   "outputs": [],
   "source": [
    "bases = {}\n",
    "for nome_arquivo in blob_list:\n",
    "    bases[nome_arquivo] = get_data(nome_arquivo)"
   ]
  },
  {
   "cell_type": "code",
   "execution_count": 6,
   "metadata": {},
   "outputs": [],
   "source": [
    "#renomeando a base\n",
    "df = bases['df_movies_consolidated.json']"
   ]
  },
  {
   "cell_type": "code",
   "execution_count": 7,
   "metadata": {},
   "outputs": [],
   "source": [
    "generos = df.columns[20:]"
   ]
  },
  {
   "cell_type": "code",
   "execution_count": 8,
   "metadata": {},
   "outputs": [
    {
     "data": {
      "text/plain": [
       "min    1925.0\n",
       "max    2011.0\n",
       "Name: year, dtype: float64"
      ]
     },
     "execution_count": 8,
     "metadata": {},
     "output_type": "execute_result"
    }
   ],
   "source": [
    "df.describe()['year'][['min', 'max']]"
   ]
  },
  {
   "attachments": {},
   "cell_type": "markdown",
   "metadata": {},
   "source": [
    "A base de dados contém 1942 filmes num intervalo de tempo entre os anos de 1925 até 2011."
   ]
  },
  {
   "attachments": {},
   "cell_type": "markdown",
   "metadata": {},
   "source": [
    "Primeiramente desejamos verificar a correlação e concentração da proporção de mulheres que participaram dos filmes presentes na base de dados em relação ao faturamento de um filme nas bilheterias."
   ]
  },
  {
   "attachments": {},
   "cell_type": "markdown",
   "metadata": {},
   "source": [
    "Correlação entre porcentagem de mulheres atuando no filme e a bilheteria do filme"
   ]
  },
  {
   "cell_type": "code",
   "execution_count": 9,
   "metadata": {},
   "outputs": [
    {
     "data": {
      "text/plain": [
       "-0.07203031240443342"
      ]
     },
     "execution_count": 9,
     "metadata": {},
     "output_type": "execute_result"
    }
   ],
   "source": [
    "df.actress_percent.corr(df.revenue)"
   ]
  },
  {
   "cell_type": "code",
   "execution_count": 10,
   "metadata": {},
   "outputs": [
    {
     "data": {
      "text/plain": [
       "<Axes: >"
      ]
     },
     "execution_count": 10,
     "metadata": {},
     "output_type": "execute_result"
    },
    {
     "data": {
      "image/png": "[encoded data removed]",
      "text/plain": [
       "<Figure size 640x480 with 1 Axes>"
      ]
     },
     "metadata": {},
     "output_type": "display_data"
    }
   ],
   "source": [
    "df.actress_percent.hist()"
   ]
  },
  {
   "cell_type": "markdown",
   "metadata": {},
   "source": [
    "Correlação da porcentagem de atores em relação ao faturamento"
   ]
  },
  {
   "cell_type": "code",
   "execution_count": 11,
   "metadata": {},
   "outputs": [
    {
     "data": {
      "text/plain": [
       "0.07203031240443339"
      ]
     },
     "execution_count": 11,
     "metadata": {},
     "output_type": "execute_result"
    }
   ],
   "source": [
    "df.actors_percent.corr(df.revenue)"
   ]
  },
  {
   "cell_type": "code",
   "execution_count": 12,
   "metadata": {},
   "outputs": [
    {
     "data": {
      "text/plain": [
       "<Axes: >"
      ]
     },
     "execution_count": 12,
     "metadata": {},
     "output_type": "execute_result"
    },
    {
     "data": {
      "image/png": "[encoded data removed]",
      "text/plain": [
       "<Figure size 640x480 with 1 Axes>"
      ]
     },
     "metadata": {},
     "output_type": "display_data"
    }
   ],
   "source": [
    "df.actors_percent.hist()"
   ]
  },
  {
   "attachments": {},
   "cell_type": "markdown",
   "metadata": {},
   "source": [
    "Como podemos observar com os histogramas acima, é possível perceber o quanto a indústria de Hollywood, considerando todos os gêneros de filmes, tende a dar mais oportunidades a atores homens, uma vez que a taxa de homens atuando em filmes é maior que a de mulheres."
   ]
  },
  {
   "cell_type": "markdown",
   "metadata": {},
   "source": [
    "A princípio, observando as correlações tanto da proporção de homens atuando quanto de mulheres, podemos observar que o fator gênero social não interfere na bilheteria do filme."
   ]
  },
  {
   "cell_type": "markdown",
   "metadata": {},
   "source": [
    "Descrição de todas as variáveis numéricas:"
   ]
  },
  {
   "cell_type": "code",
   "execution_count": 13,
   "metadata": {},
   "outputs": [
    {
     "data": {
      "text/html": [
       "<div>\n",
       "<style scoped>\n",
       "    .dataframe tbody tr th:only-of-type {\n",
       "        vertical-align: middle;\n",
       "    }\n",
       "\n",
       "    .dataframe tbody tr th {\n",
       "        vertical-align: top;\n",
       "    }\n",
       "\n",
       "    .dataframe thead th {\n",
       "        text-align: right;\n",
       "    }\n",
       "</style>\n",
       "<table border=\"1\" class=\"dataframe\">\n",
       "  <thead>\n",
       "    <tr style=\"text-align: right;\">\n",
       "      <th></th>\n",
       "      <th>year</th>\n",
       "      <th>gender_percent</th>\n",
       "      <th>actors_count</th>\n",
       "      <th>actresses_count</th>\n",
       "      <th>producer_count_male</th>\n",
       "      <th>producer_count_female</th>\n",
       "      <th>director_count</th>\n",
       "      <th>directress_count</th>\n",
       "      <th>averageRating</th>\n",
       "      <th>numVotes</th>\n",
       "      <th>...</th>\n",
       "      <th>Western</th>\n",
       "      <th>Comedy</th>\n",
       "      <th>War</th>\n",
       "      <th>Sci-Fi</th>\n",
       "      <th>Sport</th>\n",
       "      <th>History</th>\n",
       "      <th>Biography</th>\n",
       "      <th>Mystery</th>\n",
       "      <th>Film-Noir</th>\n",
       "      <th>Adult</th>\n",
       "    </tr>\n",
       "  </thead>\n",
       "  <tbody>\n",
       "    <tr>\n",
       "      <th>count</th>\n",
       "      <td>1942.000000</td>\n",
       "      <td>1942.000000</td>\n",
       "      <td>1942.000000</td>\n",
       "      <td>1942.000000</td>\n",
       "      <td>1942.000000</td>\n",
       "      <td>1942.000000</td>\n",
       "      <td>1942.000000</td>\n",
       "      <td>1942.000000</td>\n",
       "      <td>1942.000000</td>\n",
       "      <td>1.942000e+03</td>\n",
       "      <td>...</td>\n",
       "      <td>1942.000000</td>\n",
       "      <td>1942.000000</td>\n",
       "      <td>1942.000000</td>\n",
       "      <td>1942.000000</td>\n",
       "      <td>1942.000000</td>\n",
       "      <td>1942.000000</td>\n",
       "      <td>1942.000000</td>\n",
       "      <td>1942.000000</td>\n",
       "      <td>1942.000000</td>\n",
       "      <td>1942.000000</td>\n",
       "    </tr>\n",
       "    <tr>\n",
       "      <th>mean</th>\n",
       "      <td>1998.063337</td>\n",
       "      <td>29.645726</td>\n",
       "      <td>43.122554</td>\n",
       "      <td>19.022657</td>\n",
       "      <td>5.536045</td>\n",
       "      <td>1.458290</td>\n",
       "      <td>1.059732</td>\n",
       "      <td>0.048404</td>\n",
       "      <td>6.535582</td>\n",
       "      <td>1.888411e+05</td>\n",
       "      <td>...</td>\n",
       "      <td>0.024202</td>\n",
       "      <td>0.401648</td>\n",
       "      <td>0.038105</td>\n",
       "      <td>0.147271</td>\n",
       "      <td>0.039650</td>\n",
       "      <td>0.039650</td>\n",
       "      <td>0.047889</td>\n",
       "      <td>0.106076</td>\n",
       "      <td>0.001030</td>\n",
       "      <td>0.000515</td>\n",
       "    </tr>\n",
       "    <tr>\n",
       "      <th>std</th>\n",
       "      <td>13.385868</td>\n",
       "      <td>12.746129</td>\n",
       "      <td>26.903560</td>\n",
       "      <td>14.393939</td>\n",
       "      <td>3.183142</td>\n",
       "      <td>1.497744</td>\n",
       "      <td>0.527976</td>\n",
       "      <td>0.217060</td>\n",
       "      <td>1.035105</td>\n",
       "      <td>2.747932e+05</td>\n",
       "      <td>...</td>\n",
       "      <td>0.153715</td>\n",
       "      <td>0.490358</td>\n",
       "      <td>0.191499</td>\n",
       "      <td>0.354467</td>\n",
       "      <td>0.195185</td>\n",
       "      <td>0.195185</td>\n",
       "      <td>0.213586</td>\n",
       "      <td>0.308014</td>\n",
       "      <td>0.032083</td>\n",
       "      <td>0.022692</td>\n",
       "    </tr>\n",
       "    <tr>\n",
       "      <th>min</th>\n",
       "      <td>1925.000000</td>\n",
       "      <td>0.000000</td>\n",
       "      <td>0.000000</td>\n",
       "      <td>0.000000</td>\n",
       "      <td>0.000000</td>\n",
       "      <td>0.000000</td>\n",
       "      <td>0.000000</td>\n",
       "      <td>0.000000</td>\n",
       "      <td>1.900000</td>\n",
       "      <td>3.770000e+02</td>\n",
       "      <td>...</td>\n",
       "      <td>0.000000</td>\n",
       "      <td>0.000000</td>\n",
       "      <td>0.000000</td>\n",
       "      <td>0.000000</td>\n",
       "      <td>0.000000</td>\n",
       "      <td>0.000000</td>\n",
       "      <td>0.000000</td>\n",
       "      <td>0.000000</td>\n",
       "      <td>0.000000</td>\n",
       "      <td>0.000000</td>\n",
       "    </tr>\n",
       "    <tr>\n",
       "      <th>25%</th>\n",
       "      <td>1995.000000</td>\n",
       "      <td>21.000000</td>\n",
       "      <td>25.000000</td>\n",
       "      <td>10.000000</td>\n",
       "      <td>3.000000</td>\n",
       "      <td>0.000000</td>\n",
       "      <td>1.000000</td>\n",
       "      <td>0.000000</td>\n",
       "      <td>5.900000</td>\n",
       "      <td>4.163925e+04</td>\n",
       "      <td>...</td>\n",
       "      <td>0.000000</td>\n",
       "      <td>0.000000</td>\n",
       "      <td>0.000000</td>\n",
       "      <td>0.000000</td>\n",
       "      <td>0.000000</td>\n",
       "      <td>0.000000</td>\n",
       "      <td>0.000000</td>\n",
       "      <td>0.000000</td>\n",
       "      <td>0.000000</td>\n",
       "      <td>0.000000</td>\n",
       "    </tr>\n",
       "    <tr>\n",
       "      <th>50%</th>\n",
       "      <td>2002.000000</td>\n",
       "      <td>29.000000</td>\n",
       "      <td>37.000000</td>\n",
       "      <td>16.000000</td>\n",
       "      <td>5.000000</td>\n",
       "      <td>1.000000</td>\n",
       "      <td>1.000000</td>\n",
       "      <td>0.000000</td>\n",
       "      <td>6.600000</td>\n",
       "      <td>9.864800e+04</td>\n",
       "      <td>...</td>\n",
       "      <td>0.000000</td>\n",
       "      <td>0.000000</td>\n",
       "      <td>0.000000</td>\n",
       "      <td>0.000000</td>\n",
       "      <td>0.000000</td>\n",
       "      <td>0.000000</td>\n",
       "      <td>0.000000</td>\n",
       "      <td>0.000000</td>\n",
       "      <td>0.000000</td>\n",
       "      <td>0.000000</td>\n",
       "    </tr>\n",
       "    <tr>\n",
       "      <th>75%</th>\n",
       "      <td>2006.000000</td>\n",
       "      <td>38.000000</td>\n",
       "      <td>54.000000</td>\n",
       "      <td>24.000000</td>\n",
       "      <td>7.000000</td>\n",
       "      <td>2.000000</td>\n",
       "      <td>1.000000</td>\n",
       "      <td>0.000000</td>\n",
       "      <td>7.200000</td>\n",
       "      <td>2.224678e+05</td>\n",
       "      <td>...</td>\n",
       "      <td>0.000000</td>\n",
       "      <td>1.000000</td>\n",
       "      <td>0.000000</td>\n",
       "      <td>0.000000</td>\n",
       "      <td>0.000000</td>\n",
       "      <td>0.000000</td>\n",
       "      <td>0.000000</td>\n",
       "      <td>0.000000</td>\n",
       "      <td>0.000000</td>\n",
       "      <td>0.000000</td>\n",
       "    </tr>\n",
       "    <tr>\n",
       "      <th>max</th>\n",
       "      <td>2011.000000</td>\n",
       "      <td>100.000000</td>\n",
       "      <td>295.000000</td>\n",
       "      <td>135.000000</td>\n",
       "      <td>25.000000</td>\n",
       "      <td>16.000000</td>\n",
       "      <td>11.000000</td>\n",
       "      <td>2.000000</td>\n",
       "      <td>9.300000</td>\n",
       "      <td>2.800305e+06</td>\n",
       "      <td>...</td>\n",
       "      <td>1.000000</td>\n",
       "      <td>1.000000</td>\n",
       "      <td>1.000000</td>\n",
       "      <td>1.000000</td>\n",
       "      <td>1.000000</td>\n",
       "      <td>1.000000</td>\n",
       "      <td>1.000000</td>\n",
       "      <td>1.000000</td>\n",
       "      <td>1.000000</td>\n",
       "      <td>1.000000</td>\n",
       "    </tr>\n",
       "  </tbody>\n",
       "</table>\n",
       "<p>8 rows × 41 columns</p>\n",
       "</div>"
      ],
      "text/plain": [
       "              year  gender_percent  actors_count  actresses_count  \\\n",
       "count  1942.000000     1942.000000   1942.000000      1942.000000   \n",
       "mean   1998.063337       29.645726     43.122554        19.022657   \n",
       "std      13.385868       12.746129     26.903560        14.393939   \n",
       "min    1925.000000        0.000000      0.000000         0.000000   \n",
       "25%    1995.000000       21.000000     25.000000        10.000000   \n",
       "50%    2002.000000       29.000000     37.000000        16.000000   \n",
       "75%    2006.000000       38.000000     54.000000        24.000000   \n",
       "max    2011.000000      100.000000    295.000000       135.000000   \n",
       "\n",
       "       producer_count_male  producer_count_female  director_count  \\\n",
       "count          1942.000000            1942.000000     1942.000000   \n",
       "mean              5.536045               1.458290        1.059732   \n",
       "std               3.183142               1.497744        0.527976   \n",
       "min               0.000000               0.000000        0.000000   \n",
       "25%               3.000000               0.000000        1.000000   \n",
       "50%               5.000000               1.000000        1.000000   \n",
       "75%               7.000000               2.000000        1.000000   \n",
       "max              25.000000              16.000000       11.000000   \n",
       "\n",
       "       directress_count  averageRating      numVotes  ...      Western  \\\n",
       "count       1942.000000    1942.000000  1.942000e+03  ...  1942.000000   \n",
       "mean           0.048404       6.535582  1.888411e+05  ...     0.024202   \n",
       "std            0.217060       1.035105  2.747932e+05  ...     0.153715   \n",
       "min            0.000000       1.900000  3.770000e+02  ...     0.000000   \n",
       "25%            0.000000       5.900000  4.163925e+04  ...     0.000000   \n",
       "50%            0.000000       6.600000  9.864800e+04  ...     0.000000   \n",
       "75%            0.000000       7.200000  2.224678e+05  ...     0.000000   \n",
       "max            2.000000       9.300000  2.800305e+06  ...     1.000000   \n",
       "\n",
       "            Comedy          War       Sci-Fi        Sport      History  \\\n",
       "count  1942.000000  1942.000000  1942.000000  1942.000000  1942.000000   \n",
       "mean      0.401648     0.038105     0.147271     0.039650     0.039650   \n",
       "std       0.490358     0.191499     0.354467     0.195185     0.195185   \n",
       "min       0.000000     0.000000     0.000000     0.000000     0.000000   \n",
       "25%       0.000000     0.000000     0.000000     0.000000     0.000000   \n",
       "50%       0.000000     0.000000     0.000000     0.000000     0.000000   \n",
       "75%       1.000000     0.000000     0.000000     0.000000     0.000000   \n",
       "max       1.000000     1.000000     1.000000     1.000000     1.000000   \n",
       "\n",
       "         Biography      Mystery    Film-Noir        Adult  \n",
       "count  1942.000000  1942.000000  1942.000000  1942.000000  \n",
       "mean      0.047889     0.106076     0.001030     0.000515  \n",
       "std       0.213586     0.308014     0.032083     0.022692  \n",
       "min       0.000000     0.000000     0.000000     0.000000  \n",
       "25%       0.000000     0.000000     0.000000     0.000000  \n",
       "50%       0.000000     0.000000     0.000000     0.000000  \n",
       "75%       0.000000     0.000000     0.000000     0.000000  \n",
       "max       1.000000     1.000000     1.000000     1.000000  \n",
       "\n",
       "[8 rows x 41 columns]"
      ]
     },
     "execution_count": 13,
     "metadata": {},
     "output_type": "execute_result"
    }
   ],
   "source": [
    "df.describe()"
   ]
  },
  {
   "attachments": {},
   "cell_type": "markdown",
   "metadata": {},
   "source": [
    "Todas as análises a seguir foram feitas considerando que estamos tratando de dados com uma distribuição normal, pois a média e a mediana possuem valores muito próximos entre si."
   ]
  },
  {
   "attachments": {},
   "cell_type": "markdown",
   "metadata": {},
   "source": [
    "Média de avaliação de filmes com maior participação de atrizes:"
   ]
  },
  {
   "cell_type": "code",
   "execution_count": 14,
   "metadata": {},
   "outputs": [
    {
     "data": {
      "text/plain": [
       "6.4245283018867925"
      ]
     },
     "execution_count": 14,
     "metadata": {},
     "output_type": "execute_result"
    }
   ],
   "source": [
    "df[df.actress_percent > df.actors_percent].averageRating.mean()"
   ]
  },
  {
   "cell_type": "markdown",
   "metadata": {},
   "source": [
    "Média de avaliação de filmes com maior participação de atores:"
   ]
  },
  {
   "cell_type": "code",
   "execution_count": 15,
   "metadata": {},
   "outputs": [
    {
     "data": {
      "text/plain": [
       "6.545424476295479"
      ]
     },
     "execution_count": 15,
     "metadata": {},
     "output_type": "execute_result"
    }
   ],
   "source": [
    "df[df.actress_percent < df.actors_percent].averageRating.mean()"
   ]
  },
  {
   "attachments": {},
   "cell_type": "markdown",
   "metadata": {},
   "source": [
    "No entanto, ao comparar a média de notas de filmes em que a taxa de mulheres atuando é maior que a taxa de homens atuando não possui diferença significativa em relação a média de filmes em que a taxa de homens é maior. Logo, em termos de preferência do público, podemos dizer que o gênero não é um fator determinante para que um filme agrade ou não o público, o que levanta o questionamento do motivo pelo qual a indústria mesmo assim, abre mais portas para homens do que mulheres."
   ]
  },
  {
   "attachments": {},
   "cell_type": "markdown",
   "metadata": {},
   "source": [
    "Proporção de filmes cuja a taxa de mulheres atuando é maior que a de homens:"
   ]
  },
  {
   "cell_type": "code",
   "execution_count": 16,
   "metadata": {},
   "outputs": [],
   "source": [
    "participacao_maior_atrizes = df[df.actress_percent > df.actors_percent]\n",
    "participacao_maior_atores = df[df.actress_percent < df.actors_percent]"
   ]
  },
  {
   "cell_type": "markdown",
   "metadata": {},
   "source": [
    "Proporção de filmes cuja a taxa de mulheres atuando é maior que a de homens:"
   ]
  },
  {
   "cell_type": "code",
   "execution_count": 17,
   "metadata": {},
   "outputs": [
    {
     "data": {
      "text/plain": [
       "5.458290422245108"
      ]
     },
     "execution_count": 17,
     "metadata": {},
     "output_type": "execute_result"
    }
   ],
   "source": [
    "len(participacao_maior_atrizes)/len(df)*100"
   ]
  },
  {
   "cell_type": "markdown",
   "metadata": {},
   "source": [
    "Proporção de filmes cuja a taxa de homens atuando é maior que a de mulheres:"
   ]
  },
  {
   "cell_type": "code",
   "execution_count": 18,
   "metadata": {},
   "outputs": [
    {
     "data": {
      "text/plain": [
       "93.40885684860967"
      ]
     },
     "execution_count": 18,
     "metadata": {},
     "output_type": "execute_result"
    }
   ],
   "source": [
    "len(participacao_maior_atores)/len(df)*100"
   ]
  },
  {
   "cell_type": "code",
   "execution_count": 19,
   "metadata": {},
   "outputs": [
    {
     "data": {
      "text/plain": [
       "44.06788922511268"
      ]
     },
     "execution_count": 19,
     "metadata": {},
     "output_type": "execute_result"
    }
   ],
   "source": [
    "abs(((participacao_maior_atrizes.revenue.mean() - participacao_maior_atores.revenue.mean())/participacao_maior_atrizes.revenue.mean()) * 100)"
   ]
  },
  {
   "cell_type": "markdown",
   "metadata": {},
   "source": [
    "Relação entre a média de faturamento de filmes com maior participação de mulheres e filmes com maior participação de homens:"
   ]
  },
  {
   "cell_type": "code",
   "execution_count": 20,
   "metadata": {},
   "outputs": [
    {
     "data": {
      "text/plain": [
       "69.4117200840955"
      ]
     },
     "execution_count": 20,
     "metadata": {},
     "output_type": "execute_result"
    }
   ],
   "source": [
    "(participacao_maior_atrizes.revenue.mean()/participacao_maior_atores.revenue.mean())*100"
   ]
  },
  {
   "attachments": {},
   "cell_type": "markdown",
   "metadata": {},
   "source": [
    "Ao comparar a diferença entre as médias de bilheteria dos filmes em que a taxa de participação de mulheres atuando e de homens, é favorável para o grupo em que a taxa de homens é maior, pois a amostra é bem maior, representando cerca de 44% da média de bilheteria para os filmes cuja a taxa de mulheres é maior. No entando é curioso o quão expressiva é a média de faturamento para um grupo consideravelmente menor, cerca de 5% das amostras, capaz de fazer um valor bruto em bilheteria referente a 69% do valor da média de bilheteria do grupo de filmes com maior taxa de homens. O que nos dá um indício do que a hipótese de que isso está somente relacionado com questões sociais do que de fato a qualidade e poder de retorno financeiro dos filmes com maior porcentagem de mulheres."
   ]
  },
  {
   "attachments": {},
   "cell_type": "markdown",
   "metadata": {},
   "source": [
    "Por outro lado, isso ainda não é suficiente para uma conclusão. Existem outros aspectos que podem influenciar em como o fator de gênero pode ou não afetar na bilhereria de um filme."
   ]
  },
  {
   "cell_type": "code",
   "execution_count": 21,
   "metadata": {},
   "outputs": [],
   "source": [
    "proporcao_produtoras = df[df.women_producing_percent > df.men_producing_percent]\n",
    "proporcao_produtores = df[df.women_producing_percent < df.men_producing_percent]"
   ]
  },
  {
   "cell_type": "code",
   "execution_count": 22,
   "metadata": {},
   "outputs": [],
   "source": [
    "porcentagem_mulheres_atuando_dado_produtora =  proporcao_produtoras.actress_percent.mean()\n",
    "porcentagem_homens_atuando_dado_produtora =  proporcao_produtoras.actors_percent.mean()"
   ]
  },
  {
   "cell_type": "code",
   "execution_count": 23,
   "metadata": {},
   "outputs": [],
   "source": [
    "porcentagem_mulheres_atuando_dado_produtor =  proporcao_produtores.actress_percent.mean()\n",
    "porcentagem_homens_atuando_dado_produtor =  proporcao_produtores.actors_percent.mean()"
   ]
  },
  {
   "cell_type": "code",
   "execution_count": 24,
   "metadata": {},
   "outputs": [
    {
     "name": "stdout",
     "output_type": "stream",
     "text": [
      "Dado que o produtor é uma mulher, temos uma média de mulheres atuando de: 37.28260869565217\n",
      "Dado que o produtor é uma mulher, temos uma média de homens atuando de: 62.71739130434783\n",
      "Dado que o produtor é um homem, temos uma média de mulheres atuando de: 29.81682884945621\n",
      "Dado que o produtor é um homem, temos uma média de homens atuando de: 70.18317115054379\n"
     ]
    }
   ],
   "source": [
    "print('Dado que o produtor é uma mulher, temos uma média de mulheres atuando de: ' + str(porcentagem_mulheres_atuando_dado_produtora))\n",
    "print('Dado que o produtor é uma mulher, temos uma média de homens atuando de: ' + str(porcentagem_homens_atuando_dado_produtora))\n",
    "\n",
    "print('Dado que o produtor é um homem, temos uma média de mulheres atuando de: ' + str(porcentagem_mulheres_atuando_dado_produtor))\n",
    "print('Dado que o produtor é um homem, temos uma média de homens atuando de: ' + str(porcentagem_homens_atuando_dado_produtor))\n"
   ]
  },
  {
   "cell_type": "code",
   "execution_count": 25,
   "metadata": {},
   "outputs": [],
   "source": [
    "porcentagem_mulheres_dirigindo_dado_produtora =  proporcao_produtoras.women_directing_percent.mean()\n",
    "porcentagem_homens_dirigindo_dado_produtora =  proporcao_produtoras.men_directing_percent.mean()"
   ]
  },
  {
   "cell_type": "code",
   "execution_count": 26,
   "metadata": {},
   "outputs": [],
   "source": [
    "porcentagem_mulheres_dirigindo_dado_produtor =  proporcao_produtores.women_directing_percent.mean()\n",
    "porcentagem_homens_dirigindo_dado_produtor =  proporcao_produtores.men_directing_percent.mean()"
   ]
  },
  {
   "cell_type": "code",
   "execution_count": 27,
   "metadata": {},
   "outputs": [
    {
     "name": "stdout",
     "output_type": "stream",
     "text": [
      "Dado que o produtor é uma mulher, temos uma média de mulheres dirigindo de: 15.76086956521739\n",
      "Dado que o produtor é uma mulher, temos uma média de homens dirigindo de: 84.23913043478261\n",
      "Dado que o produtor é um homem, temos uma média de mulheres dirigindo de: 3.5529479107040642\n",
      "Dado que o produtor é um homem, temos uma média de homens dirigindo de: 96.44705208929594\n"
     ]
    }
   ],
   "source": [
    "print('Dado que o produtor é uma mulher, temos uma média de mulheres dirigindo de: ' + str(porcentagem_mulheres_dirigindo_dado_produtora))\n",
    "print('Dado que o produtor é uma mulher, temos uma média de homens dirigindo de: ' + str(porcentagem_homens_dirigindo_dado_produtora))\n",
    "\n",
    "print('Dado que o produtor é um homem, temos uma média de mulheres dirigindo de: ' + str(porcentagem_mulheres_dirigindo_dado_produtor))\n",
    "print('Dado que o produtor é um homem, temos uma média de homens dirigindo de: ' + str(porcentagem_homens_dirigindo_dado_produtor))\n"
   ]
  },
  {
   "cell_type": "code",
   "execution_count": 28,
   "metadata": {},
   "outputs": [
    {
     "data": {
      "text/plain": [
       "4.737384140061792"
      ]
     },
     "execution_count": 28,
     "metadata": {},
     "output_type": "execute_result"
    }
   ],
   "source": [
    "len(proporcao_produtoras)/len(df) * 100"
   ]
  },
  {
   "cell_type": "code",
   "execution_count": 29,
   "metadata": {},
   "outputs": [
    {
     "data": {
      "text/plain": [
       "89.95880535530381"
      ]
     },
     "execution_count": 29,
     "metadata": {},
     "output_type": "execute_result"
    }
   ],
   "source": [
    "len(proporcao_produtores)/len(df) * 100"
   ]
  },
  {
   "attachments": {},
   "cell_type": "markdown",
   "metadata": {},
   "source": [
    "\"A produção é a espinha dorsal de qualquer projeto audiovisual, responsável pelo planejamento e pela execução de todas as ações que viabilizem o filme. Em resumo, é o produtor quem dá condições para que os demais departamentos funcionem de maneira adequada, a fim de que o projeto fique pronto no tempo previsto pelo cronograma e dentro do orçamento. Ou seja, nenhum filme acontece sem esse profissional\". (https://www.aicinema.com.br/profissoes-do-cinema-parte-2-producao-producao-executiva-e-direcao-de-fotografia/)"
   ]
  },
  {
   "attachments": {},
   "cell_type": "markdown",
   "metadata": {},
   "source": [
    "Dada a afirmação acima, podemos dizer que a taxa de atrizes que participaram do filme pode ser afetada pelo gênero de quem produz o filme, bem como o gênero de quem dirige o filme e que é uma parte vital para a visão artística do filme."
   ]
  },
  {
   "attachments": {},
   "cell_type": "markdown",
   "metadata": {},
   "source": [
    "Podemos ver que o fator social aparenta continuar evidente quando vemos que mesmo quando temos mais mulheres produzindo filmes do que homens, ainda temos uma taxa menor de atrizes. No entando, não podemos ignorar que apesar de existir essa tendencia na indústria, vemos que a taxa de atrizes é maior no grupo em que temos mais mulheres produzindo.\n",
    "O mesmo acontece quando olhamos para a participação de mulheres na direção. "
   ]
  },
  {
   "cell_type": "code",
   "execution_count": 30,
   "metadata": {},
   "outputs": [],
   "source": [
    "proporcao_diretoras = df[df.women_directing_percent > df.men_directing_percent]\n",
    "proporcao_diretores = df[df.women_directing_percent < df.men_directing_percent]"
   ]
  },
  {
   "cell_type": "code",
   "execution_count": 31,
   "metadata": {},
   "outputs": [],
   "source": [
    "porcentagem_mulheres_atuando_dado_diretora =  proporcao_diretoras.actress_percent.mean()\n",
    "porcentagem_homens_atuando_dado_diretora =  proporcao_diretoras.actors_percent.mean()"
   ]
  },
  {
   "cell_type": "code",
   "execution_count": 32,
   "metadata": {},
   "outputs": [],
   "source": [
    "porcentagem_mulheres_atuando_dado_diretor =  proporcao_diretores.actress_percent.mean()\n",
    "porcentagem_homens_atuando_dado_diretor =  proporcao_diretores.actors_percent.mean()"
   ]
  },
  {
   "cell_type": "code",
   "execution_count": 33,
   "metadata": {},
   "outputs": [
    {
     "name": "stdout",
     "output_type": "stream",
     "text": [
      "Dado que a direção é realizada por uma mulher, temos uma média de mulheres atuando de: 40.30769230769231\n",
      "Dado que a direção é realizada por uma mulher, temos uma média de homens atuando de: 59.69230769230769\n",
      "Dado que a direção é realizada por um homem, temos uma média de mulheres atuando de: 29.878706199460918\n",
      "Dado que a direção é realizada por um homem, temos uma média de homens atuando de: 70.12129380053908\n"
     ]
    }
   ],
   "source": [
    "print('Dado que a direção é realizada por uma mulher, temos uma média de mulheres atuando de: ' + str(porcentagem_mulheres_atuando_dado_diretora))\n",
    "print('Dado que a direção é realizada por uma mulher, temos uma média de homens atuando de: ' + str(porcentagem_homens_atuando_dado_diretora))\n",
    "\n",
    "print('Dado que a direção é realizada por um homem, temos uma média de mulheres atuando de: ' + str(porcentagem_mulheres_atuando_dado_diretor))\n",
    "print('Dado que a direção é realizada por um homem, temos uma média de homens atuando de: ' + str(porcentagem_homens_atuando_dado_diretor))\n"
   ]
  },
  {
   "attachments": {},
   "cell_type": "markdown",
   "metadata": {},
   "source": [
    "Relação entre a média de faturamento de filmes com maior participação de mulheres na direção e filmes com maior participação de homens na direção:"
   ]
  },
  {
   "cell_type": "code",
   "execution_count": 34,
   "metadata": {},
   "outputs": [
    {
     "data": {
      "text/plain": [
       "69.5762308366635"
      ]
     },
     "execution_count": 34,
     "metadata": {},
     "output_type": "execute_result"
    }
   ],
   "source": [
    "(proporcao_diretoras.revenue.mean()/proporcao_diretores.revenue.mean())*100"
   ]
  },
  {
   "cell_type": "markdown",
   "metadata": {},
   "source": [
    "Porcentagem de filmes com maior participação de mulheres na direção em relação ao total de filmes:"
   ]
  },
  {
   "cell_type": "code",
   "execution_count": 35,
   "metadata": {},
   "outputs": [
    {
     "data": {
      "text/plain": [
       "4.016477857878476"
      ]
     },
     "execution_count": 35,
     "metadata": {},
     "output_type": "execute_result"
    }
   ],
   "source": [
    "(len(proporcao_diretoras)/len(df)) * 100"
   ]
  },
  {
   "cell_type": "markdown",
   "metadata": {},
   "source": [
    "Porcentagem de filmes com maior participação de homens na direção em relação ao total de filmes:"
   ]
  },
  {
   "cell_type": "code",
   "execution_count": 36,
   "metadata": {},
   "outputs": [
    {
     "data": {
      "text/plain": [
       "95.5200823892894"
      ]
     },
     "execution_count": 36,
     "metadata": {},
     "output_type": "execute_result"
    }
   ],
   "source": [
    "(len(proporcao_diretores)/len(df)) * 100"
   ]
  },
  {
   "cell_type": "markdown",
   "metadata": {},
   "source": [
    "Novamente podemos ver que quando temos uma participação maior de mulheres nos filmes, temos uma maior presença de atrizes ao compararmos com a proporção de filmes com maior participação de homens na direção. E mesmo que a proporção de mulheres na direção represente apenas 4% do total, vemos que essa proporção consegue fazer 69% da média do faturamento da proporção de filmes com maior participação de homens na direção."
   ]
  },
  {
   "cell_type": "markdown",
   "metadata": {},
   "source": [
    "Relação entre a média de orçamento de filmes com maior participação de mulheres e filmes com maior participação de homens:"
   ]
  },
  {
   "cell_type": "code",
   "execution_count": 37,
   "metadata": {},
   "outputs": [
    {
     "data": {
      "text/plain": [
       "0.6316821898513052"
      ]
     },
     "execution_count": 37,
     "metadata": {},
     "output_type": "execute_result"
    }
   ],
   "source": [
    "participacao_maior_atrizes.budget.mean()/participacao_maior_atores.budget.mean()"
   ]
  },
  {
   "cell_type": "code",
   "execution_count": 38,
   "metadata": {},
   "outputs": [
    {
     "data": {
      "text/plain": [
       "0.6872007733659594"
      ]
     },
     "execution_count": 38,
     "metadata": {},
     "output_type": "execute_result"
    }
   ],
   "source": [
    "proporcao_diretoras.budget.mean()/proporcao_diretores.budget.mean()"
   ]
  },
  {
   "attachments": {},
   "cell_type": "markdown",
   "metadata": {},
   "source": [
    "Por fim, outro fator que pode impactar negativamente no quanto um filme pode obter em bilheteria é o orçamento. No orçamento, existem custos estão incluídos que vão além da produção em si, um deles e muito importante são os gastos com a divulgação com um filme."
   ]
  },
  {
   "cell_type": "markdown",
   "metadata": {},
   "source": [
    "Correlação entre bilheteria e orçamento:"
   ]
  },
  {
   "cell_type": "code",
   "execution_count": 39,
   "metadata": {},
   "outputs": [
    {
     "data": {
      "text/plain": [
       "0.652682097728634"
      ]
     },
     "execution_count": 39,
     "metadata": {},
     "output_type": "execute_result"
    }
   ],
   "source": [
    "df.revenue.corr(df.budget)"
   ]
  },
  {
   "cell_type": "code",
   "execution_count": 40,
   "metadata": {},
   "outputs": [
    {
     "data": {
      "image/png": "[encoded data removed]",
      "text/plain": [
       "<Figure size 640x480 with 1 Axes>"
      ]
     },
     "metadata": {},
     "output_type": "display_data"
    }
   ],
   "source": [
    "sb.regplot(x = \"budget\", y = \"revenue\", data = df)\n",
    "plt.show()"
   ]
  },
  {
   "cell_type": "markdown",
   "metadata": {},
   "source": [
    "Como podemos ver, orçamento tem uma correlação positiva alta com a bilheteria do filme. Em outras palavras, quanto mais se investe em um filme, existe uma tendência de o filme ter um maior alcance de divulgação, portanto aumentando o potencial de mais pessoas irem assisti-lo, podendo assim, ter um retorno sobre o investimento maior."
   ]
  },
  {
   "attachments": {},
   "cell_type": "markdown",
   "metadata": {},
   "source": [
    "Filmes possuem diversos gêneros,que podem influenciar na bilheteria, pois está diretamente relacionado com a capacidade de atrair mais ou menos público. Por exemplo, um filme de terror tem uma capacidade consideravelmente menor de atrair grande público, dado que acarreta em uma classificação indicativa maior, limitando expressivamente a faixa hetária que terá acesso ao mesmo. \n",
    "Portanto, devemos levar em consideração dados referentes não apenas ao gênero de quem participou no desenvolvimento de toda a produção, mas dados referentes à obra artística também podem trazer maior contribuição para a análise."
   ]
  },
  {
   "cell_type": "markdown",
   "metadata": {},
   "source": [
    "A seguir, avaliaremos a contribuição de cada variável para a predição da bilheteria, a fim de analisar se de fato, uma porcentagem maior de mulheres impacta positivamente na predição do faturamento do filme."
   ]
  },
  {
   "cell_type": "code",
   "execution_count": 41,
   "metadata": {},
   "outputs": [],
   "source": [
    "feature_columns = ['budget', 'actress_percent', 'actors_percent', 'women_directing_percent',\n",
    "       'men_directing_percent', 'women_producing_percent',\n",
    "       'men_producing_percent', 'Animation', 'Family', 'Fantasy', 'Musical',\n",
    "       'Romance', 'Music', 'Adventure', 'Drama', 'Crime', 'Thriller',\n",
    "       'Documentary', 'Horror', 'Action', 'Western', 'Comedy', 'War', 'Sci-Fi',\n",
    "       'Sport', 'History', 'Biography', 'Mystery', 'Film-Noir', 'Adult']\n",
    "\n",
    "predict_variable = ['revenue']"
   ]
  },
  {
   "cell_type": "code",
   "execution_count": 49,
   "metadata": {},
   "outputs": [],
   "source": [
    "x = df[feature_columns].values\n",
    "y = df[predict_variable].values.flatten()"
   ]
  },
  {
   "cell_type": "code",
   "execution_count": 51,
   "metadata": {},
   "outputs": [],
   "source": [
    "model = RandomForestClassifier()"
   ]
  },
  {
   "cell_type": "code",
   "execution_count": 52,
   "metadata": {},
   "outputs": [
    {
     "data": {
      "text/html": [
       "<style>#sk-container-id-2 {color: black;}#sk-container-id-2 pre{padding: 0;}#sk-container-id-2 div.sk-toggleable {background-color: white;}#sk-container-id-2 label.sk-toggleable__label {cursor: pointer;display: block;width: 100%;margin-bottom: 0;padding: 0.3em;box-sizing: border-box;text-align: center;}#sk-container-id-2 label.sk-toggleable__label-arrow:before {content: \"▸\";float: left;margin-right: 0.25em;color: #696969;}#sk-container-id-2 label.sk-toggleable__label-arrow:hover:before {color: black;}#sk-container-id-2 div.sk-estimator:hover label.sk-toggleable__label-arrow:before {color: black;}#sk-container-id-2 div.sk-toggleable__content {max-height: 0;max-width: 0;overflow: hidden;text-align: left;background-color: #f0f8ff;}#sk-container-id-2 div.sk-toggleable__content pre {margin: 0.2em;color: black;border-radius: 0.25em;background-color: #f0f8ff;}#sk-container-id-2 input.sk-toggleable__control:checked~div.sk-toggleable__content {max-height: 200px;max-width: 100%;overflow: auto;}#sk-container-id-2 input.sk-toggleable__control:checked~label.sk-toggleable__label-arrow:before {content: \"▾\";}#sk-container-id-2 div.sk-estimator input.sk-toggleable__control:checked~label.sk-toggleable__label {background-color: #d4ebff;}#sk-container-id-2 div.sk-label input.sk-toggleable__control:checked~label.sk-toggleable__label {background-color: #d4ebff;}#sk-container-id-2 input.sk-hidden--visually {border: 0;clip: rect(1px 1px 1px 1px);clip: rect(1px, 1px, 1px, 1px);height: 1px;margin: -1px;overflow: hidden;padding: 0;position: absolute;width: 1px;}#sk-container-id-2 div.sk-estimator {font-family: monospace;background-color: #f0f8ff;border: 1px dotted black;border-radius: 0.25em;box-sizing: border-box;margin-bottom: 0.5em;}#sk-container-id-2 div.sk-estimator:hover {background-color: #d4ebff;}#sk-container-id-2 div.sk-parallel-item::after {content: \"\";width: 100%;border-bottom: 1px solid gray;flex-grow: 1;}#sk-container-id-2 div.sk-label:hover label.sk-toggleable__label {background-color: #d4ebff;}#sk-container-id-2 div.sk-serial::before {content: \"\";position: absolute;border-left: 1px solid gray;box-sizing: border-box;top: 0;bottom: 0;left: 50%;z-index: 0;}#sk-container-id-2 div.sk-serial {display: flex;flex-direction: column;align-items: center;background-color: white;padding-right: 0.2em;padding-left: 0.2em;position: relative;}#sk-container-id-2 div.sk-item {position: relative;z-index: 1;}#sk-container-id-2 div.sk-parallel {display: flex;align-items: stretch;justify-content: center;background-color: white;position: relative;}#sk-container-id-2 div.sk-item::before, #sk-container-id-2 div.sk-parallel-item::before {content: \"\";position: absolute;border-left: 1px solid gray;box-sizing: border-box;top: 0;bottom: 0;left: 50%;z-index: -1;}#sk-container-id-2 div.sk-parallel-item {display: flex;flex-direction: column;z-index: 1;position: relative;background-color: white;}#sk-container-id-2 div.sk-parallel-item:first-child::after {align-self: flex-end;width: 50%;}#sk-container-id-2 div.sk-parallel-item:last-child::after {align-self: flex-start;width: 50%;}#sk-container-id-2 div.sk-parallel-item:only-child::after {width: 0;}#sk-container-id-2 div.sk-dashed-wrapped {border: 1px dashed gray;margin: 0 0.4em 0.5em 0.4em;box-sizing: border-box;padding-bottom: 0.4em;background-color: white;}#sk-container-id-2 div.sk-label label {font-family: monospace;font-weight: bold;display: inline-block;line-height: 1.2em;}#sk-container-id-2 div.sk-label-container {text-align: center;}#sk-container-id-2 div.sk-container {/* jupyter's `normalize.less` sets `[hidden] { display: none; }` but bootstrap.min.css set `[hidden] { display: none !important; }` so we also need the `!important` here to be able to override the default hidden behavior on the sphinx rendered scikit-learn.org. See: https://github.com/scikit-learn/scikit-learn/issues/21755 */display: inline-block !important;position: relative;}#sk-container-id-2 div.sk-text-repr-fallback {display: none;}</style><div id=\"sk-container-id-2\" class=\"sk-top-container\"><div class=\"sk-text-repr-fallback\"><pre>RandomForestClassifier()</pre><b>In a Jupyter environment, please rerun this cell to show the HTML representation or trust the notebook. <br />On GitHub, the HTML representation is unable to render, please try loading this page with nbviewer.org.</b></div><div class=\"sk-container\" hidden><div class=\"sk-item\"><div class=\"sk-estimator sk-toggleable\"><input class=\"sk-toggleable__control sk-hidden--visually\" id=\"sk-estimator-id-2\" type=\"checkbox\" checked><label for=\"sk-estimator-id-2\" class=\"sk-toggleable__label sk-toggleable__label-arrow\">RandomForestClassifier</label><div class=\"sk-toggleable__content\"><pre>RandomForestClassifier()</pre></div></div></div></div></div>"
      ],
      "text/plain": [
       "RandomForestClassifier()"
      ]
     },
     "execution_count": 52,
     "metadata": {},
     "output_type": "execute_result"
    }
   ],
   "source": [
    "model.fit(x, y)\n"
   ]
  },
  {
   "cell_type": "code",
   "execution_count": 53,
   "metadata": {},
   "outputs": [],
   "source": [
    "importance = model.feature_importances_"
   ]
  },
  {
   "cell_type": "code",
   "execution_count": 54,
   "metadata": {},
   "outputs": [
    {
     "name": "stdout",
     "output_type": "stream",
     "text": [
      "Feature: budget, Score: 0.17896\n",
      "Feature: actress_percent, Score: 0.14709\n",
      "Feature: actors_percent, Score: 0.14773\n",
      "Feature: women_directing_percent, Score: 0.00666\n",
      "Feature: men_directing_percent, Score: 0.00689\n",
      "Feature: women_producing_percent, Score: 0.09474\n",
      "Feature: men_producing_percent, Score: 0.09603\n",
      "Feature: Animation, Score: 0.00734\n",
      "Feature: Family, Score: 0.01418\n",
      "Feature: Fantasy, Score: 0.01591\n",
      "Feature: Musical, Score: 0.00622\n",
      "Feature: Romance, Score: 0.02526\n",
      "Feature: Music, Score: 0.00789\n",
      "Feature: Adventure, Score: 0.02318\n",
      "Feature: Drama, Score: 0.03338\n",
      "Feature: Crime, Score: 0.02073\n",
      "Feature: Thriller, Score: 0.02561\n",
      "Feature: Documentary, Score: 0.00209\n",
      "Feature: Horror, Score: 0.01284\n",
      "Feature: Action, Score: 0.02443\n",
      "Feature: Western, Score: 0.00563\n",
      "Feature: Comedy, Score: 0.02805\n",
      "Feature: War, Score: 0.00722\n",
      "Feature: Sci-Fi, Score: 0.01975\n",
      "Feature: Sport, Score: 0.00877\n",
      "Feature: History, Score: 0.00731\n",
      "Feature: Biography, Score: 0.00863\n",
      "Feature: Mystery, Score: 0.01668\n",
      "Feature: Film-Noir, Score: 0.00048\n",
      "Feature: Adult, Score: 0.00033\n"
     ]
    }
   ],
   "source": [
    "for i,v in enumerate(importance):\n",
    "\tprint('Feature: %s, Score: %.5f' % (feature_columns[i],v))"
   ]
  },
  {
   "cell_type": "code",
   "execution_count": 55,
   "metadata": {},
   "outputs": [
    {
     "data": {
      "image/png": "[encoded data removed]",
      "text/plain": [
       "<Figure size 640x480 with 1 Axes>"
      ]
     },
     "metadata": {},
     "output_type": "display_data"
    }
   ],
   "source": [
    "plt.barh([x for x in feature_columns], importance)\n",
    "plt.show()"
   ]
  },
  {
   "cell_type": "markdown",
   "metadata": {},
   "source": [
    "Como podemos observar, todas as variáveis contribuem positivamente para a construção da regressão. As variáveis de gênero social, contribuem praticamente de modo igual para a construção do modelo. Orçamento como esperado, é a variável que melhor contribiu para a predição da bilheteria, uma vez que observou-se a forte correlação entre as duas informações"
   ]
  },
  {
   "cell_type": "markdown",
   "metadata": {},
   "source": [
    "Conclusão:"
   ]
  },
  {
   "cell_type": "markdown",
   "metadata": {},
   "source": [
    "Podemos observar, que, apesar de a princípio a porcentagem de mulheres ter uma correlação até mesmo negativa e fraca com o faturamento, observamos que a porcentagem de homens também possiu uma correlação igualmente fraca, apesar de positiva. Além disso, foi constatado que o gênero social também não impacta na qualidade do filme. A partir disso, analisando os recortes por conjuntos de filmes em que a participação de mulheres foi maior que a de homens e o seu oposto, observamos que mesmo que o faturamento seja abaixo do seu contraposto, ainda que uma proporção muito pequena do total de filmes na base de dados, os filmes em que a proporção de mulheres é maior representam mais da metado da média de faturamento dos filmes cuja a proporção de homens é maior. Em outras palavras, apesar de representarem um número pequeno dentre o total de filmes presentes na base de dados, os filmes cuja concentração de mulheres atuando é maior que a de homens, conseguem fazer em média, mais da metade do que a proporção de filmes atuados majoritariamente por homens. (Os filmes em que podem ter procentagem igual em ambos os gêneros sociais não são o foco dessa análise)"
   ]
  },
  {
   "attachments": {},
   "cell_type": "markdown",
   "metadata": {},
   "source": [
    "Foram analisados outros aspectos que podem interferir no quanto os filmes com maioria feminina na atuação poderiam fazer. Aspectos de gênero entre produtores e diretores também podem impactar. Foi observado que independente do produtor ser um homem ou mulher, podemos ver a tendência da indústria de Hollywood em dar mais papéis para homens do que para mulheres. No entanto, podemos observar uma tendência de quando um filme é produzido por uma mulher, maior é a chance de uma mulher ser contratada para a direção, e isso fica mais evidente quando fazemos recorte pela direção, onde quando o filme é dirigido por uma mulher existe maior tendência na contratação de mulheres."
   ]
  },
  {
   "attachments": {},
   "cell_type": "markdown",
   "metadata": {},
   "source": [
    "A partir disso, levando em consideração mais variáveis para além das questões de gênero social, podemos ver que as variáveis que representam os gêneros sociais contribuem igualmente, mesmo proporcionalmente existindo uma disparidade considerável como vimos anteriormente."
   ]
  },
  {
   "attachments": {},
   "cell_type": "markdown",
   "metadata": {},
   "source": [
    "Assim, é possível inferir que a cultura da indústria de Hollywood de dar mais preferências para homens do que mulheres não faz muito sentido comercialmente. Isso nos diz que se aumentarmos a participação de mulheres na produção dos filmes, essa realidade pode ser bem diferente. Existe infelizmente o viés que contribui para uma maior média de faturamento para filmes com maior participação masculina nessa análise, tal que poderia ser minimizado se fosse possível adquirir dados mais recentes, dado que temos cada vez mais exemplos de filmes dirigidos, protagonizados e produzidos por mulheres, chegando até nos filmes de grande orçamento."
   ]
  }
 ],
 "metadata": {
  "kernelspec": {
   "display_name": "env",
   "language": "python",
   "name": "python3"
  },
  "language_info": {
   "codemirror_mode": {
    "name": "ipython",
    "version": 3
   },
   "file_extension": ".py",
   "mimetype": "text/x-python",
   "name": "python",
   "nbconvert_exporter": "python",
   "pygments_lexer": "ipython3",
   "version": "3.9.5"
  },
  "orig_nbformat": 4
 },
 "nbformat": 4,
 "nbformat_minor": 2
}
